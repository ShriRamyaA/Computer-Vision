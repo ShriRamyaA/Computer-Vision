{
  "nbformat": 4,
  "nbformat_minor": 0,
  "metadata": {
    "colab": {
      "provenance": []
    },
    "kernelspec": {
      "name": "python3",
      "display_name": "Python 3"
    },
    "language_info": {
      "name": "python"
    }
  },
  "cells": [
    {
      "cell_type": "markdown",
      "source": [
        "#Computer Vision Fall 2022 - HW-1, Question-1\n",
        "@author: Shri Ramya Ashok\n",
        "#1)Compute Histogram for image recognition \n",
        "\n",
        "In some functions, I have considered 2 pr 10 images to demontrate the logic since considering 600 images were making notbook to get into RAM overload issue."
      ],
      "metadata": {
        "id": "ciqS-jQHfvs3"
      }
    },
    {
      "cell_type": "markdown",
      "source": [
        "###Step 1: Unzip the dataset"
      ],
      "metadata": {
        "id": "t-VnGRsGS-Nn"
      }
    },
    {
      "cell_type": "code",
      "source": [
        "!unzip '/content/NWPU-RESISC45.zip'"
      ],
      "metadata": {
        "id": "AhxV09DlQHHh"
      },
      "execution_count": null,
      "outputs": []
    },
    {
      "cell_type": "markdown",
      "source": [
        "###Step 2: Extract 40 images from 15 categories and store them in the traiing dataset. Create y_train as well. The dataset is labelled from 0-14 (total 15 unique classes)"
      ],
      "metadata": {
        "id": "-sH8qKGvTI5A"
      }
    },
    {
      "cell_type": "code",
      "source": [
        "import os\n",
        "import cv2\n",
        "import matplotlib.pyplot as plt\n",
        "\n",
        "folder = '/content/NWPU-RESISC45'\n",
        "x_train=[]\n",
        "y_train=[]\n",
        "y_class=0\n",
        "label_map = {}\n",
        "sub_folders = [name for name in os.listdir(folder) if os.path.isdir(os.path.join(folder, name))]\n",
        "\n",
        "target_folder = '/content/CV_Dataset/'\n",
        "\n",
        "#extract 40 images from first 15 classes. Total 600 images\n",
        "for sub_folder in sub_folders[:15]:\n",
        "  label_map.update({y_class:sub_folder})\n",
        "  count = 40\n",
        "  for image in os.listdir(folder+'/'+sub_folder):\n",
        "    if (count>0):\n",
        "      x_train.append(plt.imread(folder+'/'+sub_folder+'/'+image))\n",
        "      y_train.append(y_class)\n",
        "      count-=1\n",
        "    else:\n",
        "      break\n",
        "  y_class+=1"
      ],
      "metadata": {
        "id": "JTVIuXmxTX5C"
      },
      "execution_count": null,
      "outputs": []
    },
    {
      "cell_type": "code",
      "source": [
        "print(\"The number of images in the newly created dataset are: \",len(x_train))\n",
        "print(\"The number of labels in the newly created dataset are: \", len(y_train))\n",
        "print(\"The shape of each image is: \", x_train[0].shape)\n",
        "print(\"Dataset label maps: \", label_map)"
      ],
      "metadata": {
        "colab": {
          "base_uri": "https://localhost:8080/"
        },
        "id": "2MOX8LfQZPht",
        "outputId": "82b436c5-21cf-491a-cfee-8d457a6c4633"
      },
      "execution_count": null,
      "outputs": [
        {
          "output_type": "stream",
          "name": "stdout",
          "text": [
            "The number of images in the newly created dataset are:  600\n",
            "The number of labels in the newly created dataset are:  600\n",
            "The shape of each image is:  (256, 256, 3)\n",
            "Dataset label maps:  {0: 'medium_residential', 1: 'basketball_court', 2: 'commercial_area', 3: 'airplane', 4: 'mobile_home_park', 5: 'meadow', 6: 'overpass', 7: 'intersection', 8: 'river', 9: 'bridge', 10: 'palace', 11: 'ground_track_field', 12: 'harbor', 13: 'mountain', 14: 'terrace'}\n"
          ]
        }
      ]
    },
    {
      "cell_type": "markdown",
      "source": [
        "##A) Compute a HSV Kmeans model with total number of entry K=[64, 128] implementing in matlab (or python) and show your code and results\n",
        "\n",
        "KMeans to find the color table. Palette in the code is the resultant color table. I was running into RAM overlaod issue in google colab. So I have considered only first 10 images for the analysis. To consider all the images select x_train instead of x_train[:10]"
      ],
      "metadata": {
        "id": "ZrJJJUtM-0TQ"
      }
    },
    {
      "cell_type": "code",
      "source": [
        "%matplotlib inline\n",
        "# Import libraries\n",
        "import numpy as np\n",
        "import pandas as pd\n",
        "from matplotlib import pyplot as plt\n",
        "from imageio import imread\n",
        "from skimage.transform import resize\n",
        "from sklearn.cluster import KMeans\n",
        "from matplotlib.colors import to_hex\n",
        "\n",
        "# function that returns the color table. Due to RAM overload in google colab, I have taken only first 10 images to determine color palette.\n",
        "def kmeans(clusters):\n",
        "  #fix randon seed\n",
        "  np.random.seed(0)\n",
        "  data=pd.DataFrame()\n",
        "  #Change x_train[:10] to x_train to consider all the iamges for analysis\n",
        "  for image in x_train[:10]:\n",
        "    temp_data = pd.DataFrame(image.reshape(-1, 3), columns=['R', 'G', 'B'])\n",
        "    data = data.append(temp_data)\n",
        "  # Read image file as 2-D array of RGB values\n",
        "  kmeans = KMeans(n_clusters=64, random_state=0)\n",
        "  data['Cluster'] = kmeans.fit_predict(data)\n",
        "\n",
        "  palette = kmeans.cluster_centers_\n",
        "  print(\"Color table for Kmeans with \", clusters, \"clusters is\", palette)\n",
        "  return palette\n",
        "\n",
        "#K=64\n",
        "palette = kmeans(64)\n",
        "#K=128\n",
        "kmeans(128)"
      ],
      "metadata": {
        "id": "tLPWJFdnjDnr",
        "colab": {
          "base_uri": "https://localhost:8080/"
        },
        "outputId": "3c6b8b2b-df00-4597-a257-967dcfaf9202"
      },
      "execution_count": null,
      "outputs": [
        {
          "output_type": "stream",
          "name": "stdout",
          "text": [
            "Color table for Kmeans with  64 clusters is [[125.40856393 125.04679699 111.91605314]\n",
            " [ 49.88816552  51.72817266  48.79916169]\n",
            " [ 82.75826586  84.60264845  79.96120108]\n",
            " [163.35623679 171.70348837 167.39614165]\n",
            " [ 32.80180564  33.59884167  32.26479857]\n",
            " [112.05733064 101.11648129  83.24539939]\n",
            " [ 78.25432734  75.91922308  60.58269066]\n",
            " [225.23816568 231.68786982 226.74630178]\n",
            " [  4.04835307   5.44994321   2.45692033]\n",
            " [149.00969069 156.04062127 146.84853312]\n",
            " [103.19963322  95.06549646  77.82342154]\n",
            " [193.12924885 194.23961393 174.19345363]\n",
            " [ 60.055945    73.29205985  53.52278242]\n",
            " [133.02262611 138.25667656 130.15417903]\n",
            " [118.65258658 115.26641067  97.37501811]\n",
            " [ 41.0628354   42.61830422  41.09181384]\n",
            " [ 75.50998233  85.60882372  66.14341821]\n",
            " [ 20.30677694  22.46248629  15.7661406 ]\n",
            " [ 98.0449099  101.9649967   98.46174167]\n",
            " [ 39.49326968  51.72194397  34.69024887]\n",
            " [156.44125561 163.67149263 154.30621397]\n",
            " [152.06806084 137.98174905 115.36045627]\n",
            " [ 71.30037839  72.24160696  67.91361404]\n",
            " [ 57.70583409  59.29703783  55.59776811]\n",
            " [108.91861595 110.41842912 102.29399895]\n",
            " [ 84.36046592  92.72044651  71.3809887 ]\n",
            " [ 46.18754479  59.09934206  41.06312292]\n",
            " [ 64.83638981  63.70119547  49.83682794]\n",
            " [140.60173004 125.41106506 103.10848802]\n",
            " [ 91.89153457  89.58953416  78.05412888]\n",
            " [209.68143772 216.51994092 210.04825209]\n",
            " [ 88.73216257  92.29292524  89.15614651]\n",
            " [ 23.88295505  25.43980863  25.56085892]\n",
            " [ 53.09972264  66.0375063   47.1998235 ]\n",
            " [101.20345098 106.48172549  83.18901961]\n",
            " [158.36627505 156.05943331 137.19073946]\n",
            " [127.64678021 119.79663408 101.29295576]\n",
            " [106.32049797 104.77953098  92.24753909]\n",
            " [ 67.22400165  80.0754691   60.4190666 ]\n",
            " [168.70887338 169.58499501 150.34272183]\n",
            " [244.29423077 249.60096154 247.31153846]\n",
            " [ 64.04964414  65.92136016  63.26702399]\n",
            " [177.09491678 186.84930274 183.26765632]\n",
            " [ 32.20643314  43.37023573  27.55133289]\n",
            " [ 30.17492013  32.05734824  21.07515974]\n",
            " [ 57.80765117  56.61945511  43.89957843]\n",
            " [179.55745915 181.53347391 162.13837638]\n",
            " [138.46745208 146.67152556 141.83845847]\n",
            " [ 92.41698292  99.61046354  77.39197615]\n",
            " [ 41.81387749  40.45873233  30.12068703]\n",
            " [131.03503024 110.52797379  88.56224798]\n",
            " [ 70.9461742   69.97607117  55.80642982]\n",
            " [116.61149756 117.9876869  108.89509874]\n",
            " [113.8151289  110.53602442  90.0875848 ]\n",
            " [ 85.74014306  82.21957082  67.8951073 ]\n",
            " [145.18427414 145.65462818 130.12825252]\n",
            " [ 96.56689779  88.20531587  69.67732409]\n",
            " [195.38166609 202.64273266 194.1589404 ]\n",
            " [ 77.77115212  78.20582058  72.56360636]\n",
            " [ 98.11883761  97.21682051  87.62112821]\n",
            " [123.30915517 128.08465163 122.93066308]\n",
            " [134.57435152 133.3438059  118.19487925]\n",
            " [ 49.96015132  48.99186633  37.6370744 ]\n",
            " [ 12.98954781  14.66674002   9.87688415]]\n",
            "Color table for Kmeans with  128 clusters is [[125.40856393 125.04679699 111.91605314]\n",
            " [ 49.88816552  51.72817266  48.79916169]\n",
            " [ 82.75826586  84.60264845  79.96120108]\n",
            " [163.35623679 171.70348837 167.39614165]\n",
            " [ 32.80180564  33.59884167  32.26479857]\n",
            " [112.05733064 101.11648129  83.24539939]\n",
            " [ 78.25432734  75.91922308  60.58269066]\n",
            " [225.23816568 231.68786982 226.74630178]\n",
            " [  4.04835307   5.44994321   2.45692033]\n",
            " [149.00969069 156.04062127 146.84853312]\n",
            " [103.19963322  95.06549646  77.82342154]\n",
            " [193.12924885 194.23961393 174.19345363]\n",
            " [ 60.055945    73.29205985  53.52278242]\n",
            " [133.02262611 138.25667656 130.15417903]\n",
            " [118.65258658 115.26641067  97.37501811]\n",
            " [ 41.0628354   42.61830422  41.09181384]\n",
            " [ 75.50998233  85.60882372  66.14341821]\n",
            " [ 20.30677694  22.46248629  15.7661406 ]\n",
            " [ 98.0449099  101.9649967   98.46174167]\n",
            " [ 39.49326968  51.72194397  34.69024887]\n",
            " [156.44125561 163.67149263 154.30621397]\n",
            " [152.06806084 137.98174905 115.36045627]\n",
            " [ 71.30037839  72.24160696  67.91361404]\n",
            " [ 57.70583409  59.29703783  55.59776811]\n",
            " [108.91861595 110.41842912 102.29399895]\n",
            " [ 84.36046592  92.72044651  71.3809887 ]\n",
            " [ 46.18754479  59.09934206  41.06312292]\n",
            " [ 64.83638981  63.70119547  49.83682794]\n",
            " [140.60173004 125.41106506 103.10848802]\n",
            " [ 91.89153457  89.58953416  78.05412888]\n",
            " [209.68143772 216.51994092 210.04825209]\n",
            " [ 88.73216257  92.29292524  89.15614651]\n",
            " [ 23.88295505  25.43980863  25.56085892]\n",
            " [ 53.09972264  66.0375063   47.1998235 ]\n",
            " [101.20345098 106.48172549  83.18901961]\n",
            " [158.36627505 156.05943331 137.19073946]\n",
            " [127.64678021 119.79663408 101.29295576]\n",
            " [106.32049797 104.77953098  92.24753909]\n",
            " [ 67.22400165  80.0754691   60.4190666 ]\n",
            " [168.70887338 169.58499501 150.34272183]\n",
            " [244.29423077 249.60096154 247.31153846]\n",
            " [ 64.04964414  65.92136016  63.26702399]\n",
            " [177.09491678 186.84930274 183.26765632]\n",
            " [ 32.20643314  43.37023573  27.55133289]\n",
            " [ 30.17492013  32.05734824  21.07515974]\n",
            " [ 57.80765117  56.61945511  43.89957843]\n",
            " [179.55745915 181.53347391 162.13837638]\n",
            " [138.46745208 146.67152556 141.83845847]\n",
            " [ 92.41698292  99.61046354  77.39197615]\n",
            " [ 41.81387749  40.45873233  30.12068703]\n",
            " [131.03503024 110.52797379  88.56224798]\n",
            " [ 70.9461742   69.97607117  55.80642982]\n",
            " [116.61149756 117.9876869  108.89509874]\n",
            " [113.8151289  110.53602442  90.0875848 ]\n",
            " [ 85.74014306  82.21957082  67.8951073 ]\n",
            " [145.18427414 145.65462818 130.12825252]\n",
            " [ 96.56689779  88.20531587  69.67732409]\n",
            " [195.38166609 202.64273266 194.1589404 ]\n",
            " [ 77.77115212  78.20582058  72.56360636]\n",
            " [ 98.11883761  97.21682051  87.62112821]\n",
            " [123.30915517 128.08465163 122.93066308]\n",
            " [134.57435152 133.3438059  118.19487925]\n",
            " [ 49.96015132  48.99186633  37.6370744 ]\n",
            " [ 12.98954781  14.66674002   9.87688415]]\n"
          ]
        },
        {
          "output_type": "execute_result",
          "data": {
            "text/plain": [
              "array([[125.40856393, 125.04679699, 111.91605314],\n",
              "       [ 49.88816552,  51.72817266,  48.79916169],\n",
              "       [ 82.75826586,  84.60264845,  79.96120108],\n",
              "       [163.35623679, 171.70348837, 167.39614165],\n",
              "       [ 32.80180564,  33.59884167,  32.26479857],\n",
              "       [112.05733064, 101.11648129,  83.24539939],\n",
              "       [ 78.25432734,  75.91922308,  60.58269066],\n",
              "       [225.23816568, 231.68786982, 226.74630178],\n",
              "       [  4.04835307,   5.44994321,   2.45692033],\n",
              "       [149.00969069, 156.04062127, 146.84853312],\n",
              "       [103.19963322,  95.06549646,  77.82342154],\n",
              "       [193.12924885, 194.23961393, 174.19345363],\n",
              "       [ 60.055945  ,  73.29205985,  53.52278242],\n",
              "       [133.02262611, 138.25667656, 130.15417903],\n",
              "       [118.65258658, 115.26641067,  97.37501811],\n",
              "       [ 41.0628354 ,  42.61830422,  41.09181384],\n",
              "       [ 75.50998233,  85.60882372,  66.14341821],\n",
              "       [ 20.30677694,  22.46248629,  15.7661406 ],\n",
              "       [ 98.0449099 , 101.9649967 ,  98.46174167],\n",
              "       [ 39.49326968,  51.72194397,  34.69024887],\n",
              "       [156.44125561, 163.67149263, 154.30621397],\n",
              "       [152.06806084, 137.98174905, 115.36045627],\n",
              "       [ 71.30037839,  72.24160696,  67.91361404],\n",
              "       [ 57.70583409,  59.29703783,  55.59776811],\n",
              "       [108.91861595, 110.41842912, 102.29399895],\n",
              "       [ 84.36046592,  92.72044651,  71.3809887 ],\n",
              "       [ 46.18754479,  59.09934206,  41.06312292],\n",
              "       [ 64.83638981,  63.70119547,  49.83682794],\n",
              "       [140.60173004, 125.41106506, 103.10848802],\n",
              "       [ 91.89153457,  89.58953416,  78.05412888],\n",
              "       [209.68143772, 216.51994092, 210.04825209],\n",
              "       [ 88.73216257,  92.29292524,  89.15614651],\n",
              "       [ 23.88295505,  25.43980863,  25.56085892],\n",
              "       [ 53.09972264,  66.0375063 ,  47.1998235 ],\n",
              "       [101.20345098, 106.48172549,  83.18901961],\n",
              "       [158.36627505, 156.05943331, 137.19073946],\n",
              "       [127.64678021, 119.79663408, 101.29295576],\n",
              "       [106.32049797, 104.77953098,  92.24753909],\n",
              "       [ 67.22400165,  80.0754691 ,  60.4190666 ],\n",
              "       [168.70887338, 169.58499501, 150.34272183],\n",
              "       [244.29423077, 249.60096154, 247.31153846],\n",
              "       [ 64.04964414,  65.92136016,  63.26702399],\n",
              "       [177.09491678, 186.84930274, 183.26765632],\n",
              "       [ 32.20643314,  43.37023573,  27.55133289],\n",
              "       [ 30.17492013,  32.05734824,  21.07515974],\n",
              "       [ 57.80765117,  56.61945511,  43.89957843],\n",
              "       [179.55745915, 181.53347391, 162.13837638],\n",
              "       [138.46745208, 146.67152556, 141.83845847],\n",
              "       [ 92.41698292,  99.61046354,  77.39197615],\n",
              "       [ 41.81387749,  40.45873233,  30.12068703],\n",
              "       [131.03503024, 110.52797379,  88.56224798],\n",
              "       [ 70.9461742 ,  69.97607117,  55.80642982],\n",
              "       [116.61149756, 117.9876869 , 108.89509874],\n",
              "       [113.8151289 , 110.53602442,  90.0875848 ],\n",
              "       [ 85.74014306,  82.21957082,  67.8951073 ],\n",
              "       [145.18427414, 145.65462818, 130.12825252],\n",
              "       [ 96.56689779,  88.20531587,  69.67732409],\n",
              "       [195.38166609, 202.64273266, 194.1589404 ],\n",
              "       [ 77.77115212,  78.20582058,  72.56360636],\n",
              "       [ 98.11883761,  97.21682051,  87.62112821],\n",
              "       [123.30915517, 128.08465163, 122.93066308],\n",
              "       [134.57435152, 133.3438059 , 118.19487925],\n",
              "       [ 49.96015132,  48.99186633,  37.6370744 ],\n",
              "       [ 12.98954781,  14.66674002,   9.87688415]])"
            ]
          },
          "metadata": {},
          "execution_count": 22
        }
      ]
    },
    {
      "cell_type": "markdown",
      "source": [
        "Now get HSV table of all the images"
      ],
      "metadata": {
        "id": "IWhHhDn_fASE"
      }
    },
    {
      "cell_type": "code",
      "source": [
        "import matplotlib\n",
        "\n",
        "for single_image in x_train[0:2]:\n",
        "  print(single_image)\n",
        "  single_image = matplotlib.colors.rgb_to_hsv(single_image)\n",
        "  print(single_image)"
      ],
      "metadata": {
        "id": "x5_Be8xYfMwz",
        "colab": {
          "base_uri": "https://localhost:8080/"
        },
        "outputId": "bbcb5dc2-0805-443e-da40-c7b33b894efd"
      },
      "execution_count": null,
      "outputs": [
        {
          "output_type": "stream",
          "name": "stdout",
          "text": [
            "[[[ 93  93  83]\n",
            "  [ 92  92  82]\n",
            "  [ 84  84  74]\n",
            "  ...\n",
            "  [ 99 103  88]\n",
            "  [ 89  93  79]\n",
            "  [ 85  89  75]]\n",
            "\n",
            " [[ 83  83  73]\n",
            "  [ 85  85  75]\n",
            "  [ 82  82  72]\n",
            "  ...\n",
            "  [107 109  95]\n",
            "  [ 86  90  75]\n",
            "  [ 68  72  57]]\n",
            "\n",
            " [[105 105  95]\n",
            "  [ 99  99  89]\n",
            "  [ 83  83  73]\n",
            "  ...\n",
            "  [ 95  98  81]\n",
            "  [ 91  94  77]\n",
            "  [ 82  85  68]]\n",
            "\n",
            " ...\n",
            "\n",
            " [[ 48  45  38]\n",
            "  [ 53  50  43]\n",
            "  [ 57  54  47]\n",
            "  ...\n",
            "  [ 66  65  47]\n",
            "  [ 70  71  53]\n",
            "  [ 92  93  75]]\n",
            "\n",
            " [[ 41  38  31]\n",
            "  [ 46  43  36]\n",
            "  [ 51  48  41]\n",
            "  ...\n",
            "  [ 62  63  45]\n",
            "  [ 64  65  47]\n",
            "  [ 78  79  61]]\n",
            "\n",
            " [[ 33  30  23]\n",
            "  [ 37  34  27]\n",
            "  [ 42  39  32]\n",
            "  ...\n",
            "  [ 69  70  52]\n",
            "  [ 67  68  50]\n",
            "  [ 70  71  53]]]\n",
            "[[[1.6666667e-01 1.0752688e-01 9.3000000e+01]\n",
            "  [1.6666667e-01 1.0869565e-01 9.2000000e+01]\n",
            "  [1.6666667e-01 1.1904762e-01 8.4000000e+01]\n",
            "  ...\n",
            "  [2.1111111e-01 1.4563107e-01 1.0300000e+02]\n",
            "  [2.1428572e-01 1.5053764e-01 9.3000000e+01]\n",
            "  [2.1428572e-01 1.5730338e-01 8.9000000e+01]]\n",
            "\n",
            " [[1.6666667e-01 1.2048193e-01 8.3000000e+01]\n",
            "  [1.6666667e-01 1.1764706e-01 8.5000000e+01]\n",
            "  [1.6666667e-01 1.2195122e-01 8.2000000e+01]\n",
            "  ...\n",
            "  [1.9047618e-01 1.2844037e-01 1.0900000e+02]\n",
            "  [2.1111111e-01 1.6666667e-01 9.0000000e+01]\n",
            "  [2.1111111e-01 2.0833333e-01 7.2000000e+01]]\n",
            "\n",
            " [[1.6666667e-01 9.5238097e-02 1.0500000e+02]\n",
            "  [1.6666667e-01 1.0101010e-01 9.9000000e+01]\n",
            "  [1.6666667e-01 1.2048193e-01 8.3000000e+01]\n",
            "  ...\n",
            "  [1.9607842e-01 1.7346939e-01 9.8000000e+01]\n",
            "  [1.9607842e-01 1.8085106e-01 9.4000000e+01]\n",
            "  [1.9607842e-01 2.0000000e-01 8.5000000e+01]]\n",
            "\n",
            " ...\n",
            "\n",
            " [[1.1666667e-01 2.0833333e-01 4.8000000e+01]\n",
            "  [1.1666667e-01 1.8867925e-01 5.3000000e+01]\n",
            "  [1.1666667e-01 1.7543860e-01 5.7000000e+01]\n",
            "  ...\n",
            "  [1.5789475e-01 2.8787878e-01 6.6000000e+01]\n",
            "  [1.7592593e-01 2.5352111e-01 7.1000000e+01]\n",
            "  [1.7592593e-01 1.9354838e-01 9.3000000e+01]]\n",
            "\n",
            " [[1.1666667e-01 2.4390244e-01 4.1000000e+01]\n",
            "  [1.1666667e-01 2.1739130e-01 4.6000000e+01]\n",
            "  [1.1666667e-01 1.9607843e-01 5.1000000e+01]\n",
            "  ...\n",
            "  [1.7592593e-01 2.8571430e-01 6.3000000e+01]\n",
            "  [1.7592593e-01 2.7692309e-01 6.5000000e+01]\n",
            "  [1.7592593e-01 2.2784810e-01 7.9000000e+01]]\n",
            "\n",
            " [[1.1666667e-01 3.0303031e-01 3.3000000e+01]\n",
            "  [1.1666667e-01 2.7027026e-01 3.7000000e+01]\n",
            "  [1.1666667e-01 2.3809524e-01 4.2000000e+01]\n",
            "  ...\n",
            "  [1.7592593e-01 2.5714287e-01 7.0000000e+01]\n",
            "  [1.7592593e-01 2.6470590e-01 6.8000000e+01]\n",
            "  [1.7592593e-01 2.5352111e-01 7.1000000e+01]]]\n",
            "[[[164 166 181]\n",
            "  [164 166 181]\n",
            "  [164 166 181]\n",
            "  ...\n",
            "  [ 92  87  84]\n",
            "  [ 93  88  85]\n",
            "  [ 93  88  85]]\n",
            "\n",
            " [[163 166 181]\n",
            "  [163 166 181]\n",
            "  [164 168 180]\n",
            "  ...\n",
            "  [ 90  85  82]\n",
            "  [ 89  84  81]\n",
            "  [ 88  83  80]]\n",
            "\n",
            " [[166 170 182]\n",
            "  [166 170 182]\n",
            "  [166 170 182]\n",
            "  ...\n",
            "  [ 94  89  86]\n",
            "  [ 91  86  83]\n",
            "  [ 90  85  82]]\n",
            "\n",
            " ...\n",
            "\n",
            " [[ 90  95  88]\n",
            "  [ 88  93  86]\n",
            "  [ 93  96  89]\n",
            "  ...\n",
            "  [102  91  85]\n",
            "  [107  96  90]\n",
            "  [ 95  84  78]]\n",
            "\n",
            " [[ 97 103  93]\n",
            "  [ 87  93  83]\n",
            "  [ 90  93  84]\n",
            "  ...\n",
            "  [108  97  91]\n",
            "  [112 101  95]\n",
            "  [106  95  89]]\n",
            "\n",
            " [[ 92  98  88]\n",
            "  [ 89  95  85]\n",
            "  [ 87  90  81]\n",
            "  ...\n",
            "  [123 112 106]\n",
            "  [114 103  97]\n",
            "  [101  87  84]]]\n",
            "[[[6.4705878e-01 9.3922652e-02 1.8100000e+02]\n",
            "  [6.4705878e-01 9.3922652e-02 1.8100000e+02]\n",
            "  [6.4705878e-01 9.3922652e-02 1.8100000e+02]\n",
            "  ...\n",
            "  [6.2500000e-02 8.6956523e-02 9.2000000e+01]\n",
            "  [6.2500000e-02 8.6021505e-02 9.3000000e+01]\n",
            "  [6.2500000e-02 8.6021505e-02 9.3000000e+01]]\n",
            "\n",
            " [[6.3888890e-01 9.9447511e-02 1.8100000e+02]\n",
            "  [6.3888890e-01 9.9447511e-02 1.8100000e+02]\n",
            "  [6.2500000e-01 8.8888891e-02 1.8000000e+02]\n",
            "  ...\n",
            "  [6.2500000e-02 8.8888891e-02 9.0000000e+01]\n",
            "  [6.2500000e-02 8.9887641e-02 8.9000000e+01]\n",
            "  [6.2500000e-02 9.0909094e-02 8.8000000e+01]]\n",
            "\n",
            " [[6.2500000e-01 8.7912090e-02 1.8200000e+02]\n",
            "  [6.2500000e-01 8.7912090e-02 1.8200000e+02]\n",
            "  [6.2500000e-01 8.7912090e-02 1.8200000e+02]\n",
            "  ...\n",
            "  [6.2500000e-02 8.5106380e-02 9.4000000e+01]\n",
            "  [6.2500000e-02 8.7912090e-02 9.1000000e+01]\n",
            "  [6.2500000e-02 8.8888891e-02 9.0000000e+01]]\n",
            "\n",
            " ...\n",
            "\n",
            " [[2.8571430e-01 7.3684208e-02 9.5000000e+01]\n",
            "  [2.8571430e-01 7.5268820e-02 9.3000000e+01]\n",
            "  [2.3809524e-01 7.2916664e-02 9.6000000e+01]\n",
            "  ...\n",
            "  [5.8823530e-02 1.6666667e-01 1.0200000e+02]\n",
            "  [5.8823530e-02 1.5887851e-01 1.0700000e+02]\n",
            "  [5.8823530e-02 1.7894737e-01 9.5000000e+01]]\n",
            "\n",
            " [[2.6666668e-01 9.7087376e-02 1.0300000e+02]\n",
            "  [2.6666668e-01 1.0752688e-01 9.3000000e+01]\n",
            "  [2.2222221e-01 9.6774191e-02 9.3000000e+01]\n",
            "  ...\n",
            "  [5.8823530e-02 1.5740740e-01 1.0800000e+02]\n",
            "  [5.8823530e-02 1.5178572e-01 1.1200000e+02]\n",
            "  [5.8823530e-02 1.6037735e-01 1.0600000e+02]]\n",
            "\n",
            " [[2.6666668e-01 1.0204082e-01 9.8000000e+01]\n",
            "  [2.6666668e-01 1.0526316e-01 9.5000000e+01]\n",
            "  [2.2222221e-01 1.0000000e-01 9.0000000e+01]\n",
            "  ...\n",
            "  [5.8823530e-02 1.3821138e-01 1.2300000e+02]\n",
            "  [5.8823530e-02 1.4912280e-01 1.1400000e+02]\n",
            "  [2.9411765e-02 1.6831683e-01 1.0100000e+02]]]\n"
          ]
        }
      ]
    },
    {
      "cell_type": "markdown",
      "source": [
        "##B) HSV Histogram of images\n",
        "\n",
        "As an example I have computed HSV histogram for only 2 images. "
      ],
      "metadata": {
        "id": "WujiT8BFdSYc"
      }
    },
    {
      "cell_type": "code",
      "source": [
        "for image in x_train[0:2]:\n",
        "    h, s, v = image[:,:,0], image[:,:,1], image[:,:,2]\n",
        "    hist_h = cv2.calcHist([h],[0],None,[256],[0,256])\n",
        "    hist_s = cv2.calcHist([s],[0],None,[256],[0,256])\n",
        "    hist_v = cv2.calcHist([v],[0],None,[256],[0,256])\n",
        "    plt.plot(hist_h, color='r', label=\"h\")\n",
        "    plt.plot(hist_s, color='g', label=\"s\")\n",
        "    plt.plot(hist_v, color='b', label=\"v\")\n",
        "    plt.legend()\n",
        "    plt.show()\n",
        "    fig, axs = plt.subplots(1, 4)\n",
        "    axs[0].hist(h)\n",
        "    axs[1].hist(s)\n",
        "    axs[2].hist(v)\n",
        "    plt.imshow(image, interpolation='nearest')\n",
        "    plt.show()"
      ],
      "metadata": {
        "colab": {
          "base_uri": "https://localhost:8080/",
          "height": 1000
        },
        "id": "pwaozrZidmSB",
        "outputId": "31fd394f-cea8-42bb-9a7f-cbc8c77c8da1"
      },
      "execution_count": null,
      "outputs": [
        {
          "output_type": "display_data",
          "data": {
            "text/plain": [
              "<Figure size 432x288 with 1 Axes>"
            ],
            "image/png": "[encoded data removed]"
          },
          "metadata": {
            "needs_background": "light"
          }
        },
        {
          "output_type": "display_data",
          "data": {
            "text/plain": [
              "<Figure size 432x288 with 4 Axes>"
            ],
            "image/png": "[encoded data removed]"
          },
          "metadata": {
            "needs_background": "light"
          }
        },
        {
          "output_type": "display_data",
          "data": {
            "text/plain": [
              "<Figure size 432x288 with 1 Axes>"
            ],
            "image/png": "[encoded data removed]"
          },
          "metadata": {
            "needs_background": "light"
          }
        },
        {
          "output_type": "display_data",
          "data": {
            "text/plain": [
              "<Figure size 432x288 with 4 Axes>"
            ],
            "image/png": "[encoded data removed]"
          },
          "metadata": {
            "needs_background": "light"
          }
        }
      ]
    },
    {
      "cell_type": "markdown",
      "source": [
        "##B) Bonus: Euclidean and KL distance\n",
        "\n",
        "For demonstration purpose, only two images are considered."
      ],
      "metadata": {
        "id": "kwnAYDYIdfcy"
      }
    },
    {
      "cell_type": "code",
      "source": [
        "from scipy.spatial.distance import cdist\n",
        "from scipy.stats import entropy\n",
        "\n",
        "#for demostration pupose, only first two images are considered\n",
        "def getDist(opt):\n",
        "  #Euclidian distance\n",
        "  if opt=='euc':\n",
        "    for image in x_train[:2]:\n",
        "      im = cv2.cvtColor(image, cv2.COLOR_RGB2HSV)\n",
        "      dist = cdist(palette, im.reshape(256*256, 3))\n",
        "      print(\"The Euclidian distance is: \", dist)\n",
        "      #KL distance\n",
        "  if opt=='kl_distance':\n",
        "    for image in x_train[:2]:\n",
        "      im = im = cv2.cvtColor(image, cv2.COLOR_RGB2HSV)\n",
        "      im = np.resize(im, (8,8,3))\n",
        "      kl_dist = entropy(palette, im.reshape(8*8, 3), base=2)\n",
        "      print(\"The KL distance is: \", kl_dist)\n",
        "\n",
        "getDist('euc')\n",
        "getDist('kl_distance')"
      ],
      "metadata": {
        "colab": {
          "base_uri": "https://localhost:8080/"
        },
        "id": "7nZRtzvLNUaU",
        "outputId": "8266a158-cb54-472a-9cfc-d7e52c72ca4f"
      },
      "execution_count": null,
      "outputs": [
        {
          "output_type": "stream",
          "name": "stdout",
          "text": [
            "The Euclidian distance is:  [[138.10787645 137.54099044 137.53542712 ... 118.18899933 117.9326782\n",
            "  118.34230456]\n",
            " [ 54.41264337  53.14957889  45.89936419 ...  31.1953052   30.87767839\n",
            "   31.44845129]\n",
            " [ 79.19286585  78.30853789  76.03417475 ...  54.96986092  54.72768787\n",
            "   55.14497714]\n",
            " ...\n",
            " [151.25998146 150.7291748  150.94709994 ... 131.83107437 131.57065198\n",
            "  131.98382485]\n",
            " [ 62.82597676  61.59865074  53.93161872 ...  40.73331069  40.07222769\n",
            "   41.13286014]\n",
            " [ 85.7374899   84.91959411  77.58028519 ...  81.30983909  81.1426553\n",
            "   81.43015194]]\n",
            "The Euclidian distance is:  [[122.76631448 122.76631448 122.76631448 ... 146.01574924 143.77345792\n",
            "  146.11317319]\n",
            " [150.38845656 150.38845656 150.38845656 ...  85.42766288  77.14856745\n",
            "   69.3978092 ]\n",
            " [122.41949508 122.41949508 122.41949508 ...  97.27286191  92.08526154\n",
            "   90.66288837]\n",
            " ...\n",
            " [127.45806219 127.45806219 127.45806219 ... 158.00384077 156.13666671\n",
            "  158.89361129]\n",
            " [159.80858372 159.80858372 159.80858372 ...  94.8709375   86.42922493\n",
            "   77.92418116]\n",
            " [199.95345404 199.95345404 199.95345404 ... 114.95320397 106.72404873\n",
            "   95.76026701]]\n",
            "The KL distance is:  [0.25038842 0.27313237 0.26497428]\n",
            "The KL distance is:  [0.3233888 0.426469  0.4823914]\n"
          ]
        }
      ]
    },
    {
      "cell_type": "markdown",
      "source": [
        "##C) Image Recognition Experiment\n",
        "\n",
        "Overall accuracy = 37.33%"
      ],
      "metadata": {
        "id": "LTlBOjPcSdsV"
      }
    },
    {
      "cell_type": "code",
      "source": [
        "from sklearn.model_selection import train_test_split\n",
        "from sklearn.neighbors import KNeighborsClassifier\n",
        "\n",
        "def getHist(image):\n",
        "  hsv = cv2.cvtColor(image, cv2.COLOR_BGR2HSV)\n",
        "  hist = cv2.calcHist([hsv], [0, 1, 2], None, (8,8,8),[0, 180, 0, 256, 0, 256])\n",
        "  return hist.flatten()\n",
        "   \n",
        "def knnClassify():\n",
        "  labels=[]\n",
        "  features=[]\n",
        "  for image, label in zip(x_train, y_train):\n",
        "    labels.append(label)\n",
        "    features.append(getHist(image))\n",
        "  \n",
        "  (trainFeat, testFeat, trainLabels, testLabels) = train_test_split(\n",
        "\tfeatures, labels, test_size=0.25, random_state=42)\n",
        "  model = KNeighborsClassifier(n_neighbors=2)\n",
        "  model.fit(trainFeat, trainLabels)\n",
        "  acc = model.score(testFeat, testLabels)\n",
        "  print(\"KNN Classification accuracy using HSV histogram features is: {:.2f}%\".format(acc * 100))\n",
        "\n",
        "knnClassify()"
      ],
      "metadata": {
        "id": "8vYyW5PwShiz",
        "colab": {
          "base_uri": "https://localhost:8080/"
        },
        "outputId": "861fe97d-2c89-444a-cf38-3b00b5db1f45"
      },
      "execution_count": null,
      "outputs": [
        {
          "output_type": "stream",
          "name": "stdout",
          "text": [
            "KNN Classification accuracy using HSV histogram features is: 37.33%\n"
          ]
        }
      ]
    }
  ]
}